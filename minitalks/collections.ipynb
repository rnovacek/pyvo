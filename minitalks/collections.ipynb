{
 "cells": [
  {
   "cell_type": "markdown",
   "metadata": {},
   "source": [
    "# Collections\n",
    "\n",
    "https://docs.python.org/3.5/library/collections.html"
   ]
  },
  {
   "cell_type": "markdown",
   "metadata": {},
   "source": [
    "## defaultdict"
   ]
  },
  {
   "cell_type": "code",
   "execution_count": 1,
   "metadata": {
    "collapsed": true
   },
   "outputs": [],
   "source": [
    "from collections import defaultdict"
   ]
  },
  {
   "cell_type": "markdown",
   "metadata": {},
   "source": [
    "\n",
    "\n",
    "* chová se jako slovník\n",
    "* pokud hodnota neexistuje, vytvoří ji voláním funkce v prvním parametru\n",
    "\n",
    "### Příklady\n",
    "\n",
    "1) suma podle klíče"
   ]
  },
  {
   "cell_type": "code",
   "execution_count": 2,
   "metadata": {
    "collapsed": false
   },
   "outputs": [
    {
     "name": "stdout",
     "output_type": "stream",
     "text": [
      "defaultdict(<class 'int'>, {'mys': 6, 'kocka': 4, 'pes': 7})\n"
     ]
    }
   ],
   "source": [
    "pocty_zvirat = [('pes', 2), ('kocka', 3), ('mys', 6), ('kocka', 1), ('pes', 5)]\n",
    "pocty = defaultdict(int)\n",
    "for zvire, pocet in pocty_zvirat:\n",
    "    pocty[zvire] += pocet\n",
    "print(pocty)"
   ]
  },
  {
   "cell_type": "markdown",
   "metadata": {},
   "source": [
    "2) seskupování podle klíče"
   ]
  },
  {
   "cell_type": "code",
   "execution_count": 3,
   "metadata": {
    "collapsed": false
   },
   "outputs": [
    {
     "name": "stdout",
     "output_type": "stream",
     "text": [
      "defaultdict(<class 'list'>, {8: ['televize'], 3: ['dum', 'oko'], 4: ['auto', 'slon', 'stul']})\n"
     ]
    }
   ],
   "source": [
    "slova = ['dum', 'auto', 'slon', 'televize', 'stul', 'oko']\n",
    "slova_podle_delky = defaultdict(list)\n",
    "for slovo in slova:\n",
    "    slova_podle_delky[len(slovo)].append(slovo)\n",
    "print(slova_podle_delky)"
   ]
  },
  {
   "cell_type": "code",
   "execution_count": 4,
   "metadata": {
    "collapsed": false
   },
   "outputs": [
    {
     "name": "stdout",
     "output_type": "stream",
     "text": [
      "{8: ['televize'], 3: ['dum', 'oko'], 4: ['auto', 'slon', 'stul']}\n"
     ]
    }
   ],
   "source": [
    "# Bez pouziti defaultdict\n",
    "slova_podle_delky = {}\n",
    "for slovo in slova:\n",
    "    slova_podle_delky.setdefault(len(slovo), []).append(slovo)\n",
    "print(slova_podle_delky)"
   ]
  },
  {
   "cell_type": "markdown",
   "metadata": {},
   "source": [
    "### Tipy\n",
    "\n",
    "* použití `lambda` funkce jako parametru pro `defaultdict`"
   ]
  },
  {
   "cell_type": "code",
   "execution_count": 5,
   "metadata": {
    "collapsed": false
   },
   "outputs": [
    {
     "name": "stdout",
     "output_type": "stream",
     "text": [
      "defaultdict(<function <lambda> at 0x7f8af5461d08>, {'a': 6})\n"
     ]
    }
   ],
   "source": [
    "dd = defaultdict(lambda: 5)\n",
    "dd['a'] += 1\n",
    "print(dd)"
   ]
  },
  {
   "cell_type": "markdown",
   "metadata": {},
   "source": [
    "* inicializace hodnot při vytváření - stejné parametry jako u slovníku"
   ]
  },
  {
   "cell_type": "code",
   "execution_count": 6,
   "metadata": {
    "collapsed": false
   },
   "outputs": [
    {
     "name": "stdout",
     "output_type": "stream",
     "text": [
      "defaultdict(<class 'int'>, {'b': 2, 'c': 3, 'a': 1})\n",
      "defaultdict(<class 'int'>, {'b': 2, 'a': 1, 'c': 3})\n"
     ]
    }
   ],
   "source": [
    "print(defaultdict(int, a=1, b=2, c=3))\n",
    "print(defaultdict(int, {'a': 1, 'b': 2, 'c': 3}))"
   ]
  },
  {
   "cell_type": "markdown",
   "metadata": {},
   "source": [
    "* změna výchozí funkce"
   ]
  },
  {
   "cell_type": "code",
   "execution_count": 7,
   "metadata": {
    "collapsed": false
   },
   "outputs": [
    {
     "name": "stdout",
     "output_type": "stream",
     "text": [
      "defaultdict(<function <lambda> at 0x7f8af5461d90>, {'b': 4, 'a': 1})\n"
     ]
    }
   ],
   "source": [
    "d = defaultdict(int)\n",
    "d['a'] += 1\n",
    "d.default_factory = lambda: 3\n",
    "d['b'] += 1\n",
    "print(d)"
   ]
  },
  {
   "cell_type": "markdown",
   "metadata": {},
   "source": [
    "## OrderedDict"
   ]
  },
  {
   "cell_type": "code",
   "execution_count": 8,
   "metadata": {
    "collapsed": true
   },
   "outputs": [],
   "source": [
    "from collections import OrderedDict"
   ]
  },
  {
   "cell_type": "markdown",
   "metadata": {},
   "source": [
    "* Chová se stejně jako slovník, ale zachovává pořadí, v jakém byly prvky vloženy"
   ]
  },
  {
   "cell_type": "markdown",
   "metadata": {},
   "source": [
    " ### Příklady"
   ]
  },
  {
   "cell_type": "code",
   "execution_count": 9,
   "metadata": {
    "collapsed": false
   },
   "outputs": [
    {
     "name": "stdout",
     "output_type": "stream",
     "text": [
      "OrderedDict([('a', 1), ('b', 2), ('c', 3)])\n"
     ]
    }
   ],
   "source": [
    "d = OrderedDict()\n",
    "d['a'] = 1\n",
    "d['b'] = 2\n",
    "d['c'] = 3\n",
    "print(d)"
   ]
  },
  {
   "cell_type": "code",
   "execution_count": 10,
   "metadata": {
    "collapsed": false
   },
   "outputs": [
    {
     "name": "stdout",
     "output_type": "stream",
     "text": [
      "OrderedDict([('a', 1), ('b', 22), ('c', 3)])\n"
     ]
    }
   ],
   "source": [
    "d['b'] = 22  # Zmena hodnoty prvek nepresouva na konec\n",
    "print(d)"
   ]
  },
  {
   "cell_type": "code",
   "execution_count": 11,
   "metadata": {
    "collapsed": false
   },
   "outputs": [
    {
     "name": "stdout",
     "output_type": "stream",
     "text": [
      "OrderedDict([('a', 1), ('c', 3), ('b', 22)])\n"
     ]
    }
   ],
   "source": [
    "d.move_to_end('b')  # Presun na konec\n",
    "print(d)"
   ]
  },
  {
   "cell_type": "code",
   "execution_count": 12,
   "metadata": {
    "collapsed": false
   },
   "outputs": [
    {
     "name": "stdout",
     "output_type": "stream",
     "text": [
      "OrderedDict([('b', 22), ('a', 1), ('c', 3)])\n"
     ]
    }
   ],
   "source": [
    "d.move_to_end('b', last=False)  # Presun na zacatek\n",
    "print(d)"
   ]
  },
  {
   "cell_type": "code",
   "execution_count": 13,
   "metadata": {
    "collapsed": false
   },
   "outputs": [
    {
     "name": "stdout",
     "output_type": "stream",
     "text": [
      "('c', 3)\n"
     ]
    }
   ],
   "source": [
    "print(d.popitem())  # Odebere a vrati posledni"
   ]
  },
  {
   "cell_type": "code",
   "execution_count": 14,
   "metadata": {
    "collapsed": false
   },
   "outputs": [
    {
     "name": "stdout",
     "output_type": "stream",
     "text": [
      "('b', 22)\n"
     ]
    }
   ],
   "source": [
    "print(d.popitem(last=False))  # Odebere a vrati prvni"
   ]
  },
  {
   "cell_type": "markdown",
   "metadata": {},
   "source": [
    "# namedtuple"
   ]
  },
  {
   "cell_type": "code",
   "execution_count": 15,
   "metadata": {
    "collapsed": true
   },
   "outputs": [],
   "source": [
    "from collections import namedtuple"
   ]
  },
  {
   "cell_type": "markdown",
   "metadata": {},
   "source": [
    "* pojmenovaná n-tice"
   ]
  },
  {
   "cell_type": "markdown",
   "metadata": {},
   "source": [
    "### Příklady"
   ]
  },
  {
   "cell_type": "code",
   "execution_count": 16,
   "metadata": {
    "collapsed": false
   },
   "outputs": [
    {
     "name": "stdout",
     "output_type": "stream",
     "text": [
      "Barva(cervena=255, zelena=255, modra=0)\n",
      "Cervena slozka: 255\n"
     ]
    }
   ],
   "source": [
    "Barva = namedtuple('Barva', 'cervena zelena modra')\n",
    "zluta = Barva(255, 255, 0)\n",
    "print(zluta)\n",
    "print(\"Cervena slozka:\", zluta.cervena)"
   ]
  },
  {
   "cell_type": "code",
   "execution_count": 17,
   "metadata": {
    "collapsed": false
   },
   "outputs": [
    {
     "data": {
      "text/plain": [
       "Barva(cervena=255, zelena=0, modra=255)"
      ]
     },
     "execution_count": 17,
     "metadata": {},
     "output_type": "execute_result"
    }
   ],
   "source": [
    "def barva_z_hexa(hexa):\n",
    "    hexa = hexa.lstrip('#')\n",
    "    return Barva(int(hexa[:2], 16), int(hexa[2:4], 16), int(hexa[4:6], 16))\n",
    "    # return Barva(cervena=int(hexa[:2], 16), zelena=int(hexa[2:4], 16), modra=int(hexa[4:6], 16))\n",
    "barva_z_hexa('#FF00FF')"
   ]
  },
  {
   "cell_type": "code",
   "execution_count": 18,
   "metadata": {
    "collapsed": false
   },
   "outputs": [
    {
     "data": {
      "text/plain": [
       "Barva(cervena=255, zelena=255, modra=0)"
      ]
     },
     "execution_count": 18,
     "metadata": {},
     "output_type": "execute_result"
    }
   ],
   "source": [
    "Barva._make([255, 255, 0])"
   ]
  },
  {
   "cell_type": "code",
   "execution_count": 19,
   "metadata": {
    "collapsed": false
   },
   "outputs": [
    {
     "data": {
      "text/plain": [
       "OrderedDict([('cervena', 255), ('zelena', 255), ('modra', 0)])"
      ]
     },
     "execution_count": 19,
     "metadata": {},
     "output_type": "execute_result"
    }
   ],
   "source": [
    "zluta._asdict()"
   ]
  },
  {
   "cell_type": "code",
   "execution_count": 20,
   "metadata": {
    "collapsed": false
   },
   "outputs": [
    {
     "ename": "AttributeError",
     "evalue": "can't set attribute",
     "output_type": "error",
     "traceback": [
      "\u001b[0;31m---------------------------------------------------------------------------\u001b[0m",
      "\u001b[0;31mAttributeError\u001b[0m                            Traceback (most recent call last)",
      "\u001b[0;32m<ipython-input-20-0acd6fb5f28f>\u001b[0m in \u001b[0;36m<module>\u001b[0;34m()\u001b[0m\n\u001b[0;32m----> 1\u001b[0;31m \u001b[0mzluta\u001b[0m\u001b[0;34m.\u001b[0m\u001b[0mmodra\u001b[0m \u001b[0;34m=\u001b[0m \u001b[0;36m255\u001b[0m  \u001b[0;31m# Nelze, jen pro cteni\u001b[0m\u001b[0;34m\u001b[0m\u001b[0m\n\u001b[0m",
      "\u001b[0;31mAttributeError\u001b[0m: can't set attribute"
     ]
    }
   ],
   "source": [
    "zluta.modra = 255  # Nelze, jen pro cteni"
   ]
  },
  {
   "cell_type": "code",
   "execution_count": 21,
   "metadata": {
    "collapsed": false
   },
   "outputs": [
    {
     "data": {
      "text/plain": [
       "Barva(cervena=255, zelena=255, modra=255)"
      ]
     },
     "execution_count": 21,
     "metadata": {},
     "output_type": "execute_result"
    }
   ],
   "source": [
    "zluta._replace(modra=255)  # Vytvori novou namedtuple"
   ]
  },
  {
   "cell_type": "code",
   "execution_count": 22,
   "metadata": {
    "collapsed": false
   },
   "outputs": [
    {
     "data": {
      "text/plain": [
       "('cervena', 'zelena', 'modra')"
      ]
     },
     "execution_count": 22,
     "metadata": {},
     "output_type": "execute_result"
    }
   ],
   "source": [
    "Barva._fields  # Zobrazeni nazvu jednotlivych prvku n-tice"
   ]
  },
  {
   "cell_type": "code",
   "execution_count": 23,
   "metadata": {
    "collapsed": false
   },
   "outputs": [],
   "source": [
    "# print(Barva._source)"
   ]
  },
  {
   "cell_type": "markdown",
   "metadata": {},
   "source": [
    "## ChainMap"
   ]
  },
  {
   "cell_type": "code",
   "execution_count": 24,
   "metadata": {
    "collapsed": true
   },
   "outputs": [],
   "source": [
    "from collections import ChainMap"
   ]
  },
  {
   "cell_type": "markdown",
   "metadata": {},
   "source": [
    "* zřetězení několika slovníků\n",
    "* hledá se v prvním, když se nenajde, hledá se ve druhém, pak ve třetím..."
   ]
  },
  {
   "cell_type": "markdown",
   "metadata": {},
   "source": [
    "## Counter"
   ]
  },
  {
   "cell_type": "code",
   "execution_count": 25,
   "metadata": {
    "collapsed": true
   },
   "outputs": [],
   "source": [
    "from collections import Counter"
   ]
  },
  {
   "cell_type": "markdown",
   "metadata": {},
   "source": [
    "* počítání počtu prvků"
   ]
  },
  {
   "cell_type": "code",
   "execution_count": 26,
   "metadata": {
    "collapsed": false
   },
   "outputs": [
    {
     "data": {
      "text/plain": [
       "Counter({'i': 4, 'm': 1, 'p': 2, 's': 4})"
      ]
     },
     "execution_count": 26,
     "metadata": {},
     "output_type": "execute_result"
    }
   ],
   "source": [
    "c = Counter('mississippi')\n",
    "c"
   ]
  },
  {
   "cell_type": "code",
   "execution_count": 27,
   "metadata": {
    "collapsed": false
   },
   "outputs": [
    {
     "data": {
      "text/plain": [
       "4"
      ]
     },
     "execution_count": 27,
     "metadata": {},
     "output_type": "execute_result"
    }
   ],
   "source": [
    "c['s']  # Pocet opakovani jednoho prvku"
   ]
  },
  {
   "cell_type": "code",
   "execution_count": 28,
   "metadata": {
    "collapsed": false
   },
   "outputs": [
    {
     "data": {
      "text/plain": [
       "[('i', 4), ('s', 4), ('p', 2)]"
      ]
     },
     "execution_count": 28,
     "metadata": {},
     "output_type": "execute_result"
    }
   ],
   "source": [
    "c.most_common(3)  # Nejcastejsi prvky"
   ]
  },
  {
   "cell_type": "code",
   "execution_count": 29,
   "metadata": {
    "collapsed": false
   },
   "outputs": [
    {
     "data": {
      "text/plain": [
       "0"
      ]
     },
     "execution_count": 29,
     "metadata": {},
     "output_type": "execute_result"
    }
   ],
   "source": [
    "c['a']"
   ]
  },
  {
   "cell_type": "code",
   "execution_count": 30,
   "metadata": {
    "collapsed": false
   },
   "outputs": [
    {
     "name": "stdout",
     "output_type": "stream",
     "text": [
      "0\n",
      "Counter({'i': 4, 'p': 2, 'm': 1})\n"
     ]
    }
   ],
   "source": [
    "del c['s']\n",
    "print(c['s'])\n",
    "print(c)"
   ]
  },
  {
   "cell_type": "code",
   "execution_count": 31,
   "metadata": {
    "collapsed": false
   },
   "outputs": [
    {
     "data": {
      "text/plain": [
       "Counter({'i': 4, 'm': 2, 'p': 2})"
      ]
     },
     "execution_count": 31,
     "metadata": {},
     "output_type": "execute_result"
    }
   ],
   "source": [
    "c['m'] += 1\n",
    "c"
   ]
  },
  {
   "cell_type": "markdown",
   "metadata": {},
   "source": [
    "## Ostatní\n",
    "\n",
    "* deque - obousměrná fronta, rychlé vkládání na začátek a na konec\n",
    "* UserDict, UserList, UserString - třídy, které je možné zdědit při vytváření vlastních tříd založených na slovníku, seznamu, řetezci; ve vlastnosti `data` je normální slovník, seznam, řetězec."
   ]
  }
 ],
 "metadata": {
  "kernelspec": {
   "display_name": "Python 3",
   "language": "python",
   "name": "python3"
  },
  "language_info": {
   "codemirror_mode": {
    "name": "ipython",
    "version": 3
   },
   "file_extension": ".py",
   "mimetype": "text/x-python",
   "name": "python",
   "nbconvert_exporter": "python",
   "pygments_lexer": "ipython3",
   "version": "3.5.1"
  }
 },
 "nbformat": 4,
 "nbformat_minor": 1
}
